{
 "cells": [
  {
   "cell_type": "code",
   "execution_count": 1,
   "metadata": {
    "collapsed": true
   },
   "outputs": [],
   "source": [
    "# Unita: notMNIST\n",
    "\n",
    "## Elaborazioni base sul dataset notMNIST e semplice classificazione basata su Logistic Regression"
   ]
  },
  {
   "cell_type": "code",
   "execution_count": 43,
   "metadata": {
    "collapsed": true
   },
   "outputs": [],
   "source": [
    "# in seguito ci servono\n",
    "from __future__ import print_function\n",
    "import matplotlib.pyplot as plt\n",
    "import numpy as np\n",
    "import os\n",
    "import sys\n",
    "import tarfile\n",
    "from IPython.display import display, Image\n",
    "from scipy import ndimage\n",
    "from sklearn.linear_model import LogisticRegression\n",
    "from six.moves.urllib.request import urlretrieve\n",
    "from six.moves import cPickle as pickle\n",
    "\n",
    "# IPython: With this backend, the output of plotting commands is displayed inline\n",
    "%matplotlib inline"
   ]
  },
  {
   "cell_type": "code",
   "execution_count": 44,
   "metadata": {
    "collapsed": true
   },
   "outputs": [],
   "source": [
    "# suppongo di aver scaricato notMNIST_large.tar.gz e notMNIST_small.tar.gz\n",
    "# decompressi in 2 directory notMNIST_large e notMNIST_small\n",
    "train_folder = \"../datasets/notMNIST_large/\"\n",
    "test_folder = \"../datasets/notMNIST_small/\"\n",
    "num_classes = 10 # notMNIST labels"
   ]
  },
  {
   "cell_type": "code",
   "execution_count": 45,
   "metadata": {
    "collapsed": true
   },
   "outputs": [],
   "source": [
    "image_size = 28  # dimensione immagine dataset: 28x28 pixel\n",
    "pixel_depth = 255.0 # scale di grigio\n",
    "\n",
    "def load_images(folder, min_num_images):\n",
    "    print (\"load from %s\" % folder)\n",
    "    image_files = os.listdir(folder)\n",
    "    # creo una matrice NUM_FILES x 28 x 28 di float per memorizzare il dataset\n",
    "    dataset = np.ndarray(shape=(len(image_files), image_size, image_size),\n",
    "                         dtype=np.float32)\n",
    "    num_images = 0\n",
    "    for image in image_files:\n",
    "        image_file = os.path.join(folder, image)\n",
    "        # posso avere errori nella lettura delle immagini\n",
    "        try:      \n",
    "            # leggo una immagine e la memorizzo come matrice\n",
    "            # opero anche la normalizzazione mean = 0 e standard deviation ~0.5\n",
    "            image_data = (ndimage.imread(image_file).astype(float) - \n",
    "                    pixel_depth / 2) / pixel_depth\n",
    "            if image_data.shape != (image_size, image_size):\n",
    "                raise Exception('Unexpected image shape: %s' % str(image_data.shape))\n",
    "            # accodo al dataset l'immagine\n",
    "            dataset[num_images, :, :] = image_data\n",
    "            num_images = num_images + 1\n",
    "        except IOError as e:\n",
    "            print('Could not read:', image_file, ':', e, '- it\\'s ok, skipping.')\n",
    "            \n",
    "    # cropping della matrice conteggiando le immagini effettivamente lette\n",
    "    dataset = dataset[0:num_images, :, :]\n",
    "    if num_images < min_num_images:\n",
    "        raise Exception('Many fewer images than expected: %d < %d' % (num_images, min_num_images))\n",
    "    \n",
    "    print('Full dataset tensor:', dataset.shape)\n",
    "    print('Mean:', np.mean(dataset))\n",
    "    print('Standard deviation:', np.std(dataset))\n",
    "    return dataset\n",
    "        \n"
   ]
  },
  {
   "cell_type": "code",
   "execution_count": 46,
   "metadata": {
    "collapsed": true
   },
   "outputs": [],
   "source": [
    "# recupero tutte le sottodirectory del parametro directory\n",
    "def list_subdirs(directory):\n",
    "    data_folders = [os.path.join(directory, d) for d in sorted(os.listdir(directory)) if os.path.isdir(os.path.join(directory, d))]\n",
    "    if len(data_folders) != num_classes:\n",
    "        raise Exception('Expected %d folders, one per class. Found %d instead.' % (num_classes, len(data_folders)))\n",
    "    # debug: print(data_folders)\n",
    "    return data_folders"
   ]
  },
  {
   "cell_type": "code",
   "execution_count": null,
   "metadata": {
    "collapsed": true
   },
   "outputs": [],
   "source": [
    "## PROBLEMA #1: FASE DI EXPLORATION \n",
    "# Ho tanti dati, è opportuno dare un'occhiata a come sono fatti\n",
    "# prendi dei sample e visualizzali"
   ]
  },
  {
   "cell_type": "code",
   "execution_count": 58,
   "metadata": {},
   "outputs": [
    {
     "name": "stdout",
     "output_type": "stream",
     "text": [
      "['../datasets/notMNIST_large/A', '../datasets/notMNIST_large/B', '../datasets/notMNIST_large/C', '../datasets/notMNIST_large/D', '../datasets/notMNIST_large/E', '../datasets/notMNIST_large/F', '../datasets/notMNIST_large/G', '../datasets/notMNIST_large/H', '../datasets/notMNIST_large/I', '../datasets/notMNIST_large/J']\n",
      "../datasets/notMNIST_large/A/VmFkaW0ncyBXcml0aW5nLnR0Zg==.png\n"
     ]
    },
    {
     "data": {
      "image/png": "[encoded data removed]",
      "text/plain": [
       "<IPython.core.display.Image object>"
      ]
     },
     "metadata": {},
     "output_type": "display_data"
    },
    {
     "name": "stdout",
     "output_type": "stream",
     "text": [
      "../datasets/notMNIST_large/A/Q3JlZXBpbmcgRXZpbC50dGY=.png\n"
     ]
    },
    {
     "data": {
      "image/png": "[encoded data removed]",
      "text/plain": [
       "<IPython.core.display.Image object>"
      ]
     },
     "metadata": {},
     "output_type": "display_data"
    },
    {
     "name": "stdout",
     "output_type": "stream",
     "text": [
      "../datasets/notMNIST_large/A/Y2FyaWNhdHVyZS50dGY=.png\n"
     ]
    },
    {
     "data": {
      "image/png": "[encoded data removed]",
      "text/plain": [
       "<IPython.core.display.Image object>"
      ]
     },
     "metadata": {},
     "output_type": "display_data"
    },
    {
     "name": "stdout",
     "output_type": "stream",
     "text": [
      "../datasets/notMNIST_large/A/Q2l0eSBEIEVFIEJvbGQucGZi.png\n"
     ]
    },
    {
     "data": {
      "image/png": "[encoded data removed]",
      "text/plain": [
       "<IPython.core.display.Image object>"
      ]
     },
     "metadata": {},
     "output_type": "display_data"
    },
    {
     "name": "stdout",
     "output_type": "stream",
     "text": [
      "../datasets/notMNIST_large/A/S2VwbGVyU3RkLUNuU3ViaC5vdGY=.png\n"
     ]
    },
    {
     "data": {
      "image/png": "[encoded data removed]",
      "text/plain": [
       "<IPython.core.display.Image object>"
      ]
     },
     "metadata": {},
     "output_type": "display_data"
    },
    {
     "name": "stdout",
     "output_type": "stream",
     "text": [
      "../datasets/notMNIST_large/B/VmFkaW0ncyBXcml0aW5nLnR0Zg==.png\n"
     ]
    },
    {
     "data": {
      "image/png": "[encoded data removed]",
      "text/plain": [
       "<IPython.core.display.Image object>"
      ]
     },
     "metadata": {},
     "output_type": "display_data"
    },
    {
     "name": "stdout",
     "output_type": "stream",
     "text": [
      "../datasets/notMNIST_large/B/Q3JlZXBpbmcgRXZpbC50dGY=.png\n"
     ]
    },
    {
     "data": {
      "image/png": "[encoded data removed]",
      "text/plain": [
       "<IPython.core.display.Image object>"
      ]
     },
     "metadata": {},
     "output_type": "display_data"
    },
    {
     "name": "stdout",
     "output_type": "stream",
     "text": [
      "../datasets/notMNIST_large/B/Y2FyaWNhdHVyZS50dGY=.png\n"
     ]
    },
    {
     "data": {
      "image/png": "[encoded data removed]",
      "text/plain": [
       "<IPython.core.display.Image object>"
      ]
     },
     "metadata": {},
     "output_type": "display_data"
    },
    {
     "name": "stdout",
     "output_type": "stream",
     "text": [
      "../datasets/notMNIST_large/B/Q2l0eSBEIEVFIEJvbGQucGZi.png\n"
     ]
    },
    {
     "data": {
      "image/png": "[encoded data removed]",
      "text/plain": [
       "<IPython.core.display.Image object>"
      ]
     },
     "metadata": {},
     "output_type": "display_data"
    },
    {
     "name": "stdout",
     "output_type": "stream",
     "text": [
      "../datasets/notMNIST_large/B/S2VwbGVyU3RkLUNuU3ViaC5vdGY=.png\n"
     ]
    },
    {
     "data": {
      "image/png": "[encoded data removed]",
      "text/plain": [
       "<IPython.core.display.Image object>"
      ]
     },
     "metadata": {},
     "output_type": "display_data"
    },
    {
     "name": "stdout",
     "output_type": "stream",
     "text": [
      "../datasets/notMNIST_large/C/VmFkaW0ncyBXcml0aW5nLnR0Zg==.png\n"
     ]
    },
    {
     "data": {
      "image/png": "[encoded data removed]",
      "text/plain": [
       "<IPython.core.display.Image object>"
      ]
     },
     "metadata": {},
     "output_type": "display_data"
    },
    {
     "name": "stdout",
     "output_type": "stream",
     "text": [
      "../datasets/notMNIST_large/C/Q3JlZXBpbmcgRXZpbC50dGY=.png\n"
     ]
    },
    {
     "data": {
      "image/png": "[encoded data removed]",
      "text/plain": [
       "<IPython.core.display.Image object>"
      ]
     },
     "metadata": {},
     "output_type": "display_data"
    },
    {
     "name": "stdout",
     "output_type": "stream",
     "text": [
      "../datasets/notMNIST_large/C/Y2FyaWNhdHVyZS50dGY=.png\n"
     ]
    },
    {
     "data": {
      "image/png": "[encoded data removed]",
      "text/plain": [
       "<IPython.core.display.Image object>"
      ]
     },
     "metadata": {},
     "output_type": "display_data"
    },
    {
     "name": "stdout",
     "output_type": "stream",
     "text": [
      "../datasets/notMNIST_large/C/Q2l0eSBEIEVFIEJvbGQucGZi.png\n"
     ]
    },
    {
     "data": {
      "image/png": "[encoded data removed]",
      "text/plain": [
       "<IPython.core.display.Image object>"
      ]
     },
     "metadata": {},
     "output_type": "display_data"
    },
    {
     "name": "stdout",
     "output_type": "stream",
     "text": [
      "../datasets/notMNIST_large/C/S2VwbGVyU3RkLUNuU3ViaC5vdGY=.png\n"
     ]
    },
    {
     "data": {
      "image/png": "[encoded data removed]",
      "text/plain": [
       "<IPython.core.display.Image object>"
      ]
     },
     "metadata": {},
     "output_type": "display_data"
    },
    {
     "name": "stdout",
     "output_type": "stream",
     "text": [
      "../datasets/notMNIST_large/D/VmFkaW0ncyBXcml0aW5nLnR0Zg==.png\n"
     ]
    },
    {
     "data": {
      "image/png": "[encoded data removed]",
      "text/plain": [
       "<IPython.core.display.Image object>"
      ]
     },
     "metadata": {},
     "output_type": "display_data"
    },
    {
     "name": "stdout",
     "output_type": "stream",
     "text": [
      "../datasets/notMNIST_large/D/Q3JlZXBpbmcgRXZpbC50dGY=.png\n"
     ]
    },
    {
     "data": {
      "image/png": "[encoded data removed]",
      "text/plain": [
       "<IPython.core.display.Image object>"
      ]
     },
     "metadata": {},
     "output_type": "display_data"
    },
    {
     "name": "stdout",
     "output_type": "stream",
     "text": [
      "../datasets/notMNIST_large/D/Y2FyaWNhdHVyZS50dGY=.png\n"
     ]
    },
    {
     "data": {
      "image/png": "[encoded data removed]",
      "text/plain": [
       "<IPython.core.display.Image object>"
      ]
     },
     "metadata": {},
     "output_type": "display_data"
    },
    {
     "name": "stdout",
     "output_type": "stream",
     "text": [
      "../datasets/notMNIST_large/D/Q2l0eSBEIEVFIEJvbGQucGZi.png\n"
     ]
    },
    {
     "data": {
      "image/png": "[encoded data removed]",
      "text/plain": [
       "<IPython.core.display.Image object>"
      ]
     },
     "metadata": {},
     "output_type": "display_data"
    },
    {
     "name": "stdout",
     "output_type": "stream",
     "text": [
      "../datasets/notMNIST_large/D/S2VwbGVyU3RkLUNuU3ViaC5vdGY=.png\n"
     ]
    },
    {
     "data": {
      "image/png": "[encoded data removed]",
      "text/plain": [
       "<IPython.core.display.Image object>"
      ]
     },
     "metadata": {},
     "output_type": "display_data"
    },
    {
     "name": "stdout",
     "output_type": "stream",
     "text": [
      "../datasets/notMNIST_large/E/VmFkaW0ncyBXcml0aW5nLnR0Zg==.png\n"
     ]
    },
    {
     "data": {
      "image/png": "[encoded data removed]",
      "text/plain": [
       "<IPython.core.display.Image object>"
      ]
     },
     "metadata": {},
     "output_type": "display_data"
    },
    {
     "name": "stdout",
     "output_type": "stream",
     "text": [
      "../datasets/notMNIST_large/E/Q3JlZXBpbmcgRXZpbC50dGY=.png\n"
     ]
    },
    {
     "data": {
      "image/png": "[encoded data removed]",
      "text/plain": [
       "<IPython.core.display.Image object>"
      ]
     },
     "metadata": {},
     "output_type": "display_data"
    },
    {
     "name": "stdout",
     "output_type": "stream",
     "text": [
      "../datasets/notMNIST_large/E/Y2FyaWNhdHVyZS50dGY=.png\n"
     ]
    },
    {
     "data": {
      "image/png": "[encoded data removed]",
      "text/plain": [
       "<IPython.core.display.Image object>"
      ]
     },
     "metadata": {},
     "output_type": "display_data"
    },
    {
     "name": "stdout",
     "output_type": "stream",
     "text": [
      "../datasets/notMNIST_large/E/Q2l0eSBEIEVFIEJvbGQucGZi.png\n"
     ]
    },
    {
     "data": {
      "image/png": "[encoded data removed]",
      "text/plain": [
       "<IPython.core.display.Image object>"
      ]
     },
     "metadata": {},
     "output_type": "display_data"
    },
    {
     "name": "stdout",
     "output_type": "stream",
     "text": [
      "../datasets/notMNIST_large/E/S2VwbGVyU3RkLUNuU3ViaC5vdGY=.png\n"
     ]
    },
    {
     "data": {
      "image/png": "[encoded data removed]",
      "text/plain": [
       "<IPython.core.display.Image object>"
      ]
     },
     "metadata": {},
     "output_type": "display_data"
    },
    {
     "name": "stdout",
     "output_type": "stream",
     "text": [
      "../datasets/notMNIST_large/F/VmFkaW0ncyBXcml0aW5nLnR0Zg==.png\n"
     ]
    },
    {
     "data": {
      "image/png": "[encoded data removed]",
      "text/plain": [
       "<IPython.core.display.Image object>"
      ]
     },
     "metadata": {},
     "output_type": "display_data"
    },
    {
     "name": "stdout",
     "output_type": "stream",
     "text": [
      "../datasets/notMNIST_large/F/Q3JlZXBpbmcgRXZpbC50dGY=.png\n"
     ]
    },
    {
     "data": {
      "image/png": "[encoded data removed]",
      "text/plain": [
       "<IPython.core.display.Image object>"
      ]
     },
     "metadata": {},
     "output_type": "display_data"
    },
    {
     "name": "stdout",
     "output_type": "stream",
     "text": [
      "../datasets/notMNIST_large/F/Y2FyaWNhdHVyZS50dGY=.png\n"
     ]
    },
    {
     "data": {
      "image/png": "[encoded data removed]",
      "text/plain": [
       "<IPython.core.display.Image object>"
      ]
     },
     "metadata": {},
     "output_type": "display_data"
    },
    {
     "name": "stdout",
     "output_type": "stream",
     "text": [
      "../datasets/notMNIST_large/F/Q2l0eSBEIEVFIEJvbGQucGZi.png\n"
     ]
    },
    {
     "data": {
      "image/png": "[encoded data removed]",
      "text/plain": [
       "<IPython.core.display.Image object>"
      ]
     },
     "metadata": {},
     "output_type": "display_data"
    },
    {
     "name": "stdout",
     "output_type": "stream",
     "text": [
      "../datasets/notMNIST_large/F/S2VwbGVyU3RkLUNuU3ViaC5vdGY=.png\n"
     ]
    },
    {
     "data": {
      "image/png": "[encoded data removed]",
      "text/plain": [
       "<IPython.core.display.Image object>"
      ]
     },
     "metadata": {},
     "output_type": "display_data"
    },
    {
     "name": "stdout",
     "output_type": "stream",
     "text": [
      "../datasets/notMNIST_large/G/VmFkaW0ncyBXcml0aW5nLnR0Zg==.png\n"
     ]
    },
    {
     "data": {
      "image/png": "[encoded data removed]",
      "text/plain": [
       "<IPython.core.display.Image object>"
      ]
     },
     "metadata": {},
     "output_type": "display_data"
    },
    {
     "name": "stdout",
     "output_type": "stream",
     "text": [
      "../datasets/notMNIST_large/G/Q3JlZXBpbmcgRXZpbC50dGY=.png\n"
     ]
    },
    {
     "data": {
      "image/png": "[encoded data removed]",
      "text/plain": [
       "<IPython.core.display.Image object>"
      ]
     },
     "metadata": {},
     "output_type": "display_data"
    },
    {
     "name": "stdout",
     "output_type": "stream",
     "text": [
      "../datasets/notMNIST_large/G/Y2FyaWNhdHVyZS50dGY=.png\n"
     ]
    },
    {
     "data": {
      "image/png": "[encoded data removed]",
      "text/plain": [
       "<IPython.core.display.Image object>"
      ]
     },
     "metadata": {},
     "output_type": "display_data"
    },
    {
     "name": "stdout",
     "output_type": "stream",
     "text": [
      "../datasets/notMNIST_large/G/Q2l0eSBEIEVFIEJvbGQucGZi.png\n"
     ]
    },
    {
     "data": {
      "image/png": "[encoded data removed]",
      "text/plain": [
       "<IPython.core.display.Image object>"
      ]
     },
     "metadata": {},
     "output_type": "display_data"
    },
    {
     "name": "stdout",
     "output_type": "stream",
     "text": [
      "../datasets/notMNIST_large/G/S2VwbGVyU3RkLUNuU3ViaC5vdGY=.png\n"
     ]
    },
    {
     "data": {
      "image/png": "[encoded data removed]",
      "text/plain": [
       "<IPython.core.display.Image object>"
      ]
     },
     "metadata": {},
     "output_type": "display_data"
    },
    {
     "name": "stdout",
     "output_type": "stream",
     "text": [
      "../datasets/notMNIST_large/H/VmFkaW0ncyBXcml0aW5nLnR0Zg==.png\n"
     ]
    },
    {
     "data": {
      "image/png": "[encoded data removed]",
      "text/plain": [
       "<IPython.core.display.Image object>"
      ]
     },
     "metadata": {},
     "output_type": "display_data"
    },
    {
     "name": "stdout",
     "output_type": "stream",
     "text": [
      "../datasets/notMNIST_large/H/Q3JlZXBpbmcgRXZpbC50dGY=.png\n"
     ]
    },
    {
     "data": {
      "image/png": "[encoded data removed]",
      "text/plain": [
       "<IPython.core.display.Image object>"
      ]
     },
     "metadata": {},
     "output_type": "display_data"
    },
    {
     "name": "stdout",
     "output_type": "stream",
     "text": [
      "../datasets/notMNIST_large/H/Y2FyaWNhdHVyZS50dGY=.png\n"
     ]
    },
    {
     "data": {
      "image/png": "[encoded data removed]",
      "text/plain": [
       "<IPython.core.display.Image object>"
      ]
     },
     "metadata": {},
     "output_type": "display_data"
    },
    {
     "name": "stdout",
     "output_type": "stream",
     "text": [
      "../datasets/notMNIST_large/H/Q2l0eSBEIEVFIEJvbGQucGZi.png\n"
     ]
    },
    {
     "data": {
      "image/png": "[encoded data removed]",
      "text/plain": [
       "<IPython.core.display.Image object>"
      ]
     },
     "metadata": {},
     "output_type": "display_data"
    },
    {
     "name": "stdout",
     "output_type": "stream",
     "text": [
      "../datasets/notMNIST_large/H/S2VwbGVyU3RkLUNuU3ViaC5vdGY=.png\n"
     ]
    },
    {
     "data": {
      "image/png": "[encoded data removed]",
      "text/plain": [
       "<IPython.core.display.Image object>"
      ]
     },
     "metadata": {},
     "output_type": "display_data"
    },
    {
     "name": "stdout",
     "output_type": "stream",
     "text": [
      "../datasets/notMNIST_large/I/VmFkaW0ncyBXcml0aW5nLnR0Zg==.png\n"
     ]
    },
    {
     "data": {
      "image/png": "[encoded data removed]",
      "text/plain": [
       "<IPython.core.display.Image object>"
      ]
     },
     "metadata": {},
     "output_type": "display_data"
    },
    {
     "name": "stdout",
     "output_type": "stream",
     "text": [
      "../datasets/notMNIST_large/I/Q3JlZXBpbmcgRXZpbC50dGY=.png\n"
     ]
    },
    {
     "data": {
      "image/png": "[encoded data removed]",
      "text/plain": [
       "<IPython.core.display.Image object>"
      ]
     },
     "metadata": {},
     "output_type": "display_data"
    },
    {
     "name": "stdout",
     "output_type": "stream",
     "text": [
      "../datasets/notMNIST_large/I/Y2FyaWNhdHVyZS50dGY=.png\n"
     ]
    },
    {
     "data": {
      "image/png": "[encoded data removed]",
      "text/plain": [
       "<IPython.core.display.Image object>"
      ]
     },
     "metadata": {},
     "output_type": "display_data"
    },
    {
     "name": "stdout",
     "output_type": "stream",
     "text": [
      "../datasets/notMNIST_large/I/Q2l0eSBEIEVFIEJvbGQucGZi.png\n"
     ]
    },
    {
     "data": {
      "image/png": "[encoded data removed]",
      "text/plain": [
       "<IPython.core.display.Image object>"
      ]
     },
     "metadata": {},
     "output_type": "display_data"
    },
    {
     "name": "stdout",
     "output_type": "stream",
     "text": [
      "../datasets/notMNIST_large/I/S2VwbGVyU3RkLUNuU3ViaC5vdGY=.png\n"
     ]
    },
    {
     "data": {
      "image/png": "[encoded data removed]",
      "text/plain": [
       "<IPython.core.display.Image object>"
      ]
     },
     "metadata": {},
     "output_type": "display_data"
    },
    {
     "name": "stdout",
     "output_type": "stream",
     "text": [
      "../datasets/notMNIST_large/J/VmFkaW0ncyBXcml0aW5nLnR0Zg==.png\n"
     ]
    },
    {
     "data": {
      "image/png": "[encoded data removed]",
      "text/plain": [
       "<IPython.core.display.Image object>"
      ]
     },
     "metadata": {},
     "output_type": "display_data"
    },
    {
     "name": "stdout",
     "output_type": "stream",
     "text": [
      "../datasets/notMNIST_large/J/Q3JlZXBpbmcgRXZpbC50dGY=.png\n"
     ]
    },
    {
     "data": {
      "image/png": "[encoded data removed]",
      "text/plain": [
       "<IPython.core.display.Image object>"
      ]
     },
     "metadata": {},
     "output_type": "display_data"
    },
    {
     "name": "stdout",
     "output_type": "stream",
     "text": [
      "../datasets/notMNIST_large/J/Y2FyaWNhdHVyZS50dGY=.png\n"
     ]
    },
    {
     "data": {
      "image/png": "[encoded data removed]",
      "text/plain": [
       "<IPython.core.display.Image object>"
      ]
     },
     "metadata": {},
     "output_type": "display_data"
    },
    {
     "name": "stdout",
     "output_type": "stream",
     "text": [
      "../datasets/notMNIST_large/J/Q2l0eSBEIEVFIEJvbGQucGZi.png\n"
     ]
    },
    {
     "data": {
      "image/png": "[encoded data removed]",
      "text/plain": [
       "<IPython.core.display.Image object>"
      ]
     },
     "metadata": {},
     "output_type": "display_data"
    },
    {
     "name": "stdout",
     "output_type": "stream",
     "text": [
      "../datasets/notMNIST_large/J/S2VwbGVyU3RkLUNuU3ViaC5vdGY=.png\n"
     ]
    },
    {
     "data": {
      "image/png": "[encoded data removed]",
      "text/plain": [
       "<IPython.core.display.Image object>"
      ]
     },
     "metadata": {},
     "output_type": "display_data"
    }
   ],
   "source": [
    "train_subfolders = list_subdirs(train_folder)\n",
    "for folder in train_subfolders:\n",
    "    fn_images = os.listdir(folder)\n",
    "    for file in fn_images[:5]:\n",
    "        path = folder + os.sep + file\n",
    "        print (path)\n",
    "        display(Image(path))"
   ]
  },
  {
   "cell_type": "code",
   "execution_count": 61,
   "metadata": {
    "collapsed": true
   },
   "outputs": [],
   "source": [
    "# carica le immagini presenti nel data_folders e serializza la matrice corrispondente su un file con estensione .pickle\n",
    "def serialize_folder_images(data_folders, min_num_images_per_class):\n",
    "    dataset_names = []\n",
    "    for folder in data_folders:\n",
    "\n",
    "        set_filename = folder + '.pickle'\n",
    "        if os.path.isfile(set_filename):\n",
    "            print ('pickle file %s exists, so I skip it', set_filename)\n",
    "            continue\n",
    "        dataset_names.append(set_filename)\n",
    "        dataset = load_images(folder, min_num_images_per_class)\n",
    "        try:\n",
    "            with open(set_filename, 'wb') as f:\n",
    "                pickle.dump(dataset, f, pickle.HIGHEST_PROTOCOL)\n",
    "        except Exception as e:\n",
    "            print('Unable to save data to', set_filename, ':', e)\n",
    "  \n",
    "    return dataset_names"
   ]
  },
  {
   "cell_type": "code",
   "execution_count": 62,
   "metadata": {},
   "outputs": [
    {
     "name": "stdout",
     "output_type": "stream",
     "text": [
      "['../datasets/notMNIST_large/A', '../datasets/notMNIST_large/B', '../datasets/notMNIST_large/C', '../datasets/notMNIST_large/D', '../datasets/notMNIST_large/E', '../datasets/notMNIST_large/F', '../datasets/notMNIST_large/G', '../datasets/notMNIST_large/H', '../datasets/notMNIST_large/I', '../datasets/notMNIST_large/J']\n",
      "['../datasets/notMNIST_small/A', '../datasets/notMNIST_small/B', '../datasets/notMNIST_small/C', '../datasets/notMNIST_small/D', '../datasets/notMNIST_small/E', '../datasets/notMNIST_small/F', '../datasets/notMNIST_small/G', '../datasets/notMNIST_small/H', '../datasets/notMNIST_small/I', '../datasets/notMNIST_small/J']\n",
      "pickle file %s exists, so I skip it ../datasets/notMNIST_large/A.pickle\n",
      "load from ../datasets/notMNIST_large/A\n",
      "Could not read: ../datasets/notMNIST_large/A/RnJlaWdodERpc3BCb29rSXRhbGljLnR0Zg==.png : cannot identify image file '../datasets/notMNIST_large/A/RnJlaWdodERpc3BCb29rSXRhbGljLnR0Zg==.png' - it's ok, skipping.\n",
      "Could not read: ../datasets/notMNIST_large/A/Um9tYW5hIEJvbGQucGZi.png : cannot identify image file '../datasets/notMNIST_large/A/Um9tYW5hIEJvbGQucGZi.png' - it's ok, skipping.\n",
      "Could not read: ../datasets/notMNIST_large/A/SG90IE11c3RhcmQgQlROIFBvc3Rlci50dGY=.png : cannot identify image file '../datasets/notMNIST_large/A/SG90IE11c3RhcmQgQlROIFBvc3Rlci50dGY=.png' - it's ok, skipping.\n",
      "Full dataset tensor: (52909, 28, 28)\n",
      "Mean: -0.12825\n",
      "Standard deviation: 0.443121\n",
      "pickle file %s exists, so I skip it ../datasets/notMNIST_large/B.pickle\n",
      "load from ../datasets/notMNIST_large/B\n",
      "Could not read: ../datasets/notMNIST_large/B/TmlraXNFRi1TZW1pQm9sZEl0YWxpYy5vdGY=.png : cannot identify image file '../datasets/notMNIST_large/B/TmlraXNFRi1TZW1pQm9sZEl0YWxpYy5vdGY=.png' - it's ok, skipping.\n",
      "Full dataset tensor: (52911, 28, 28)\n",
      "Mean: -0.00756303\n",
      "Standard deviation: 0.454491\n",
      "pickle file %s exists, so I skip it ../datasets/notMNIST_large/C.pickle\n",
      "load from ../datasets/notMNIST_large/C\n",
      "Full dataset tensor: (52912, 28, 28)\n",
      "Mean: -0.142258\n",
      "Standard deviation: 0.439806\n",
      "pickle file %s exists, so I skip it ../datasets/notMNIST_large/D.pickle\n",
      "load from ../datasets/notMNIST_large/D\n",
      "Could not read: ../datasets/notMNIST_large/D/VHJhbnNpdCBCb2xkLnR0Zg==.png : cannot identify image file '../datasets/notMNIST_large/D/VHJhbnNpdCBCb2xkLnR0Zg==.png' - it's ok, skipping.\n",
      "Full dataset tensor: (52911, 28, 28)\n",
      "Mean: -0.0573677\n",
      "Standard deviation: 0.455647\n",
      "pickle file %s exists, so I skip it ../datasets/notMNIST_large/E.pickle\n",
      "load from ../datasets/notMNIST_large/E\n",
      "Full dataset tensor: (52912, 28, 28)\n",
      "Mean: -0.069899\n",
      "Standard deviation: 0.452941\n",
      "pickle file %s exists, so I skip it ../datasets/notMNIST_large/F.pickle\n",
      "load from ../datasets/notMNIST_large/F\n",
      "Full dataset tensor: (52912, 28, 28)\n",
      "Mean: -0.125583\n",
      "Standard deviation: 0.447089\n",
      "pickle file %s exists, so I skip it ../datasets/notMNIST_large/G.pickle\n",
      "load from ../datasets/notMNIST_large/G\n",
      "Full dataset tensor: (52912, 28, 28)\n",
      "Mean: -0.0945816\n",
      "Standard deviation: 0.44624\n",
      "pickle file %s exists, so I skip it ../datasets/notMNIST_large/H.pickle\n",
      "load from ../datasets/notMNIST_large/H\n",
      "Full dataset tensor: (52912, 28, 28)\n",
      "Mean: -0.0685221\n",
      "Standard deviation: 0.454232\n",
      "pickle file %s exists, so I skip it ../datasets/notMNIST_large/I.pickle\n",
      "load from ../datasets/notMNIST_large/I\n",
      "Full dataset tensor: (52912, 28, 28)\n",
      "Mean: 0.0307863\n",
      "Standard deviation: 0.468898\n",
      "pickle file %s exists, so I skip it ../datasets/notMNIST_large/J.pickle\n",
      "load from ../datasets/notMNIST_large/J\n",
      "Full dataset tensor: (52911, 28, 28)\n",
      "Mean: -0.153358\n",
      "Standard deviation: 0.443656\n",
      "pickle file %s exists, so I skip it ../datasets/notMNIST_small/A.pickle\n",
      "load from ../datasets/notMNIST_small/A\n",
      "Could not read: ../datasets/notMNIST_small/A/RGVtb2NyYXRpY2FCb2xkT2xkc3R5bGUgQm9sZC50dGY=.png : cannot identify image file '../datasets/notMNIST_small/A/RGVtb2NyYXRpY2FCb2xkT2xkc3R5bGUgQm9sZC50dGY=.png' - it's ok, skipping.\n",
      "Full dataset tensor: (1872, 28, 28)\n",
      "Mean: -0.132626\n",
      "Standard deviation: 0.445128\n",
      "pickle file %s exists, so I skip it ../datasets/notMNIST_small/B.pickle\n",
      "load from ../datasets/notMNIST_small/B\n",
      "Full dataset tensor: (1873, 28, 28)\n",
      "Mean: 0.00535608\n",
      "Standard deviation: 0.457115\n",
      "pickle file %s exists, so I skip it ../datasets/notMNIST_small/C.pickle\n",
      "load from ../datasets/notMNIST_small/C\n",
      "Full dataset tensor: (1873, 28, 28)\n",
      "Mean: -0.141521\n",
      "Standard deviation: 0.44269\n",
      "pickle file %s exists, so I skip it ../datasets/notMNIST_small/D.pickle\n",
      "load from ../datasets/notMNIST_small/D\n",
      "Full dataset tensor: (1873, 28, 28)\n",
      "Mean: -0.0492167\n",
      "Standard deviation: 0.459759\n",
      "pickle file %s exists, so I skip it ../datasets/notMNIST_small/E.pickle\n",
      "load from ../datasets/notMNIST_small/E\n",
      "Full dataset tensor: (1873, 28, 28)\n",
      "Mean: -0.0599148\n",
      "Standard deviation: 0.45735\n",
      "pickle file %s exists, so I skip it ../datasets/notMNIST_small/F.pickle\n",
      "load from ../datasets/notMNIST_small/F\n",
      "Could not read: ../datasets/notMNIST_small/F/Q3Jvc3NvdmVyIEJvbGRPYmxpcXVlLnR0Zg==.png : cannot identify image file '../datasets/notMNIST_small/F/Q3Jvc3NvdmVyIEJvbGRPYmxpcXVlLnR0Zg==.png' - it's ok, skipping.\n",
      "Full dataset tensor: (1872, 28, 28)\n",
      "Mean: -0.118185\n",
      "Standard deviation: 0.452279\n",
      "pickle file %s exists, so I skip it ../datasets/notMNIST_small/G.pickle\n",
      "load from ../datasets/notMNIST_small/G\n",
      "Full dataset tensor: (1872, 28, 28)\n",
      "Mean: -0.0925503\n",
      "Standard deviation: 0.449006\n",
      "pickle file %s exists, so I skip it ../datasets/notMNIST_small/H.pickle\n",
      "load from ../datasets/notMNIST_small/H\n",
      "Full dataset tensor: (1872, 28, 28)\n",
      "Mean: -0.0586892\n",
      "Standard deviation: 0.458759\n",
      "pickle file %s exists, so I skip it ../datasets/notMNIST_small/I.pickle\n",
      "load from ../datasets/notMNIST_small/I\n",
      "Full dataset tensor: (1872, 28, 28)\n",
      "Mean: 0.0526451\n",
      "Standard deviation: 0.471894\n",
      "pickle file %s exists, so I skip it ../datasets/notMNIST_small/J.pickle\n",
      "load from ../datasets/notMNIST_small/J\n",
      "Full dataset tensor: (1872, 28, 28)\n",
      "Mean: -0.151689\n",
      "Standard deviation: 0.448014\n",
      "done!\n"
     ]
    }
   ],
   "source": [
    "train_subfolders = list_subdirs(train_folder)\n",
    "test_subfolders = list_subdirs(test_folder)\n",
    "train_datasets = serialize_folder_images(train_subfolders, 45000)\n",
    "test_datasets = serialize_folder_images(test_subfolders, 1800)\n",
    "print (\"done!\")"
   ]
  },
  {
   "cell_type": "code",
   "execution_count": null,
   "metadata": {
    "collapsed": true
   },
   "outputs": [],
   "source": [
    "## PROBLEMA #2\n",
    "# Ora prova a visualizzare i dati a partire dagli oggetti ndarray"
   ]
  },
  {
   "cell_type": "code",
   "execution_count": 96,
   "metadata": {},
   "outputs": [
    {
     "data": {
      "image/png": "[encoded data removed]",
      "text/plain": [
       "<matplotlib.figure.Figure at 0x11728e198>"
      ]
     },
     "metadata": {},
     "output_type": "display_data"
    }
   ],
   "source": [
    "# prendo il fn del pickle relativo al label A\n",
    "pickle_file = train_datasets[0]  \n",
    "\n",
    "with open(pickle_file, 'rb') as f:        \n",
    "    # unpickle\n",
    "    letter_set = pickle.load(f)  \n",
    "    # prendo in indice a caso\n",
    "    sample_idx = np.random.randint(len(letter_set))    \n",
    "    # estraggo la matrice relativa all'indice\n",
    "    sample_image = letter_set[sample_idx, :, :]  \n",
    "    plt.figure()\n",
    "    \n",
    "    plt.imshow(sample_image)  "
   ]
  },
  {
   "cell_type": "code",
   "execution_count": null,
   "metadata": {
    "collapsed": true
   },
   "outputs": [],
   "source": [
    "## PROBLEMA #3 \n",
    "# Nella classificazione multiclass è opportuno avere un dataset bilanciato\n",
    "# verifica che il numero di file per label sia più o meno lo stesso"
   ]
  },
  {
   "cell_type": "code",
   "execution_count": 72,
   "metadata": {},
   "outputs": [
    {
     "name": "stdout",
     "output_type": "stream",
     "text": [
      "pickle file  ../datasets/notMNIST_large/A.pickle  contains  52909  samples\n",
      "pickle file  ../datasets/notMNIST_large/B.pickle  contains  52911  samples\n",
      "pickle file  ../datasets/notMNIST_large/C.pickle  contains  52912  samples\n",
      "pickle file  ../datasets/notMNIST_large/D.pickle  contains  52911  samples\n",
      "pickle file  ../datasets/notMNIST_large/E.pickle  contains  52912  samples\n",
      "pickle file  ../datasets/notMNIST_large/F.pickle  contains  52912  samples\n",
      "pickle file  ../datasets/notMNIST_large/G.pickle  contains  52912  samples\n",
      "pickle file  ../datasets/notMNIST_large/H.pickle  contains  52912  samples\n",
      "pickle file  ../datasets/notMNIST_large/I.pickle  contains  52912  samples\n",
      "pickle file  ../datasets/notMNIST_large/J.pickle  contains  52911  samples\n"
     ]
    }
   ],
   "source": [
    "for pickle_file in train_datasets:\n",
    "    with open(pickle_file, 'rb') as f:        \n",
    "        # unpickle\n",
    "        letter_set = pickle.load(f)  \n",
    "        print(\"pickle file \", pickle_file, \" contains \", len(letter_set), \" samples\")"
   ]
  },
  {
   "cell_type": "code",
   "execution_count": 73,
   "metadata": {
    "collapsed": true
   },
   "outputs": [],
   "source": [
    "# crea una matrice di double per il dataset, e un array di int per i label, di dimensioni nb_rows x nb_rows e nb_rows rispettivamente\n",
    "def make_arrays(nb_rows, img_size):\n",
    "    if nb_rows:\n",
    "        dataset = np.ndarray((nb_rows, img_size, img_size), dtype=np.float32)\n",
    "        labels = np.ndarray(nb_rows, dtype=np.int32)\n",
    "    else:\n",
    "        dataset, labels = None, None\n",
    "    return dataset, labels\n"
   ]
  },
  {
   "cell_type": "code",
   "execution_count": 92,
   "metadata": {
    "collapsed": true
   },
   "outputs": [],
   "source": [
    "# fa il merge dei pickle files \n",
    "# il merge ottenuto lo suddivide in due datasets: uno per il training e uno per la validazione\n",
    "# il primo ha dimensione train_size e il secondo valid_size\n",
    "def merge_pickles(pickle_files, train_size, valid_size=0):\n",
    "\tnum_classes = len(pickle_files)\n",
    "\tvalid_dataset, valid_labels = make_arrays(valid_size, image_size)\n",
    "\ttrain_dataset, train_labels = make_arrays(train_size, image_size)\n",
    "    # numero di istanze da considerare (fisso) per label \n",
    "\tvalid_size_per_class = valid_size // num_classes\n",
    "\ttrain_size_per_class = train_size // num_classes\n",
    "\t\t\n",
    "\tstart_v, start_t = 0, 0\n",
    "\tend_v, end_t = valid_size_per_class, train_size_per_class\n",
    "\tend_l = valid_size_per_class+train_size_per_class\n",
    "    # itera sui pickle files insieme a un contatore (label)\n",
    "\tfor label, pickle_file in enumerate(pickle_files):\t\t\t \n",
    "\t\ttry:\n",
    "\t\t\twith open(pickle_file, 'rb') as f:\n",
    "\t\t\t\tletter_set = pickle.load(f)\n",
    "\t\t\t\t# faccio uno shuffle del dataset, perchè? \n",
    "\t\t\t\tnp.random.shuffle(letter_set)\n",
    "\t\t\t\tif valid_dataset is not None:\n",
    "                    # di tutto il pickle prendo solo valid_size_per_class istanze\n",
    "\t\t\t\t\tvalid_letter = letter_set[:valid_size_per_class, :, :]\n",
    "\t\t\t\t\tvalid_dataset[start_v:end_v, :, :] = valid_letter\n",
    "\t\t\t\t\tvalid_labels[start_v:end_v] = label\n",
    "\t\t\t\t\tstart_v += valid_size_per_class\n",
    "\t\t\t\t\tend_v += valid_size_per_class\n",
    "\t\t\t\t\t\t\t\t\t\t\n",
    "\t\t\t\ttrain_letters = letter_set[valid_size_per_class:end_l, :, :]\n",
    "\t\t\t\ttrain_dataset[start_t:end_t, :, :] = train_letters\n",
    "\t\t\t\ttrain_labels[start_t:end_t] = label\n",
    "\t\t\t\tstart_t += train_size_per_class\n",
    "\t\t\t\tend_t += train_size_per_class\n",
    "\t\texcept Exception as e:\n",
    "\t\t\tprint('Unable to process data from', pickle_file, ':', e)\n",
    "\t\t\traise\n",
    "\t\t\n",
    "\treturn valid_dataset, valid_labels, train_dataset, train_labels"
   ]
  },
  {
   "cell_type": "code",
   "execution_count": 83,
   "metadata": {
    "collapsed": true
   },
   "outputs": [],
   "source": [
    "# definiamo le dimensioni dei dataset per il training, la validazione e il test\n",
    "train_size = 200000\n",
    "valid_size = 10000\n",
    "test_size = 10000"
   ]
  },
  {
   "cell_type": "code",
   "execution_count": 81,
   "metadata": {},
   "outputs": [
    {
     "name": "stdout",
     "output_type": "stream",
     "text": [
      "Training: (200000, 28, 28) (200000,)\n",
      "Validation: (10000, 28, 28) (10000,)\n",
      "Testing: (10000, 28, 28) (10000,)\n"
     ]
    }
   ],
   "source": [
    "valid_dataset, valid_labels, train_dataset, train_labels = merge_pickles(\n",
    "  train_datasets, train_size, valid_size)\n",
    "_, _, test_dataset, test_labels = merge_pickles(test_datasets, test_size)\n",
    "\n",
    "print('Training:', train_dataset.shape, train_labels.shape)\n",
    "print('Validation:', valid_dataset.shape, valid_labels.shape)\n",
    "print('Testing:', test_dataset.shape, test_labels.shape)"
   ]
  },
  {
   "cell_type": "code",
   "execution_count": 82,
   "metadata": {
    "collapsed": true
   },
   "outputs": [],
   "source": [
    "# dato un dataset e i corrispondenti labels, fa un nuovo shuffle\n",
    "def randomize(dataset, labels):\n",
    "    # restituisce un array contenente le permutazioni del numero dato in input\n",
    "    permutation = np.random.permutation(labels.shape[0])\n",
    "    shuffled_dataset = dataset[permutation,:,:]\n",
    "    shuffled_labels = labels[permutation]\n",
    "    return shuffled_dataset, shuffled_labels\n",
    "\n",
    "train_dataset, train_labels = randomize(train_dataset, train_labels)\n",
    "test_dataset, test_labels = randomize(test_dataset, test_labels)\n",
    "valid_dataset, valid_labels = randomize(valid_dataset, valid_labels)"
   ]
  },
  {
   "cell_type": "code",
   "execution_count": 87,
   "metadata": {
    "collapsed": true
   },
   "outputs": [],
   "source": [
    "# salviamo i dataset su un singolo file\n",
    "pickle_file = \"../datasets/notMNIST.pickle\"\n",
    "\n",
    "try:\n",
    "    f = open(pickle_file, 'wb')\n",
    "    save = {\n",
    "        'train_dataset': train_dataset,\n",
    "        'train_labels': train_labels,\n",
    "        'valid_dataset': valid_dataset,\n",
    "        'valid_labels': valid_labels,\n",
    "        'test_dataset': test_dataset,\n",
    "        'test_labels': test_labels,\n",
    "    }\n",
    "    pickle.dump(save, f, pickle.HIGHEST_PROTOCOL)\n",
    "    f.close()\n",
    "except Exception as e:\n",
    "    print('Unable to save data to', pickle_file, ':', e)\n",
    "    raise\n"
   ]
  },
  {
   "cell_type": "code",
   "execution_count": 88,
   "metadata": {},
   "outputs": [
    {
     "name": "stdout",
     "output_type": "stream",
     "text": [
      "pickle size: 690800506\n"
     ]
    }
   ],
   "source": [
    "statinfo = os.stat(pickle_file)\n",
    "print('pickle size:', statinfo.st_size)"
   ]
  },
  {
   "cell_type": "code",
   "execution_count": null,
   "metadata": {
    "collapsed": true
   },
   "outputs": [],
   "source": [
    "## PROBLEMA #4\n",
    "# valutare la possibilità di overlap (stesse immagini) tra i datasets di training, validation e test "
   ]
  },
  {
   "cell_type": "code",
   "execution_count": 93,
   "metadata": {
    "collapsed": true
   },
   "outputs": [],
   "source": [
    "def check_overlaps(images1, images2):\n",
    "    images1.flags.writeable=False\n",
    "    images2.flags.writeable=False\n",
    "    # Python v2\n",
    "    #hash1 = set([hash(image1.data) for image1 in images1])\n",
    "    #hash2 = set([hash(image2.data) for image2 in images2])\n",
    "    # Python v3\n",
    "    hash1 = set([hash(image1.tobytes()) for image1 in images1])\n",
    "    hash2 = set([hash(image2.tobytes()) for image2 in images2])\n",
    "    all_overlaps = set.intersection(hash1, hash2)\n",
    "    return all_overlaps"
   ]
  },
  {
   "cell_type": "code",
   "execution_count": 94,
   "metadata": {},
   "outputs": [
    {
     "name": "stdout",
     "output_type": "stream",
     "text": [
      "Number of overlaps between training and test sets:  1169\n"
     ]
    }
   ],
   "source": [
    "r = check_overlaps(train_dataset, test_dataset)    \n",
    "print('Number of overlaps between training and test sets: ', len(r))"
   ]
  },
  {
   "cell_type": "code",
   "execution_count": 95,
   "metadata": {},
   "outputs": [
    {
     "ename": "SyntaxError",
     "evalue": "invalid syntax (<ipython-input-95-13ee4c8cd1e5>, line 3)",
     "output_type": "error",
     "traceback": [
      "\u001b[0;36m  File \u001b[0;32m\"<ipython-input-95-13ee4c8cd1e5>\"\u001b[0;36m, line \u001b[0;32m3\u001b[0m\n\u001b[0;31m    Train a simple model on this data using 50, 100, 1000 and 5000 training samples. Hint: you can use the LogisticRegression model from sklearn.linear_model.\u001b[0m\n\u001b[0m          ^\u001b[0m\n\u001b[0;31mSyntaxError\u001b[0m\u001b[0;31m:\u001b[0m invalid syntax\n"
     ]
    }
   ],
   "source": [
    "## PROBLEMA #5\n",
    "# Prova ad addestrare un classificatore della libreria ML sklearn \n",
    "# Magari trovi una soluzione soddisfacente\n",
    "# Ti consiglio di partire da poche istanze di training, es. 50, 100, 1000"
   ]
  },
  {
   "cell_type": "code",
   "execution_count": 97,
   "metadata": {},
   "outputs": [
    {
     "name": "stderr",
     "output_type": "stream",
     "text": [
      "[Parallel(n_jobs=-1)]: Done   1 out of   1 | elapsed: 147.8min finished\n"
     ]
    },
    {
     "data": {
      "text/plain": [
       "0.89910000000000001"
      ]
     },
     "execution_count": 97,
     "metadata": {},
     "output_type": "execute_result"
    }
   ],
   "source": [
    "# Scegliamo il LogisticRegression model in sklearn.linear_model\n",
    "\n",
    "# Adatto i dati in modo da avere per ogni istanza, non una matrice 28x28 ma un array 1x784\n",
    "# così è più facile usarla come vettore di features\n",
    "samples, width, height = train_dataset.shape\n",
    "X_train = np.reshape(train_dataset,(samples,width*height))\n",
    "y_train = train_labels\n",
    "\n",
    "# Faccio lo stesso con i dati di test\n",
    "samples, width, height = test_dataset.shape\n",
    "X_test = np.reshape(test_dataset,(samples,width*height))\n",
    "y_test = test_labels\n",
    "\n",
    "from sklearn.linear_model import LogisticRegression\n",
    "\n",
    "# Creo un logistic regression classifier.\n",
    "# Invece del metodo a discesa del gradiente impiego Limited-memory BFGS (lbfgs), \n",
    "# utile quando si hanno molti dati e un classificatore multilabel (vedi dettagli su Wiki)\n",
    "# Per questo metodo definiamo il seed per il generatore dei numeri pseudo random (random_state=42)\n",
    "# Vedi altri dettagli sulla documentazion online\n",
    "lg = LogisticRegression(multi_class='multinomial', solver='lbfgs', random_state=42, verbose=1, max_iter=1000, n_jobs=-1)\n",
    "\n",
    "# Addestro (o fit) il modello in base i dati in input\n",
    "lg.fit(X_train, y_train)\n",
    "\n",
    "# Ottengo le predizioni dal test set\n",
    "y_pred = lg.predict(X_test)\n",
    "\n",
    "# Calcolo le performance della predizione in termini di accuracy (Num. coretti/Tot. classificati)\n",
    "from sklearn import metrics\n",
    "metrics.accuracy_score(y_test, y_pred)\n"
   ]
  },
  {
   "cell_type": "code",
   "execution_count": 1,
   "metadata": {
    "collapsed": true
   },
   "outputs": [],
   "source": [
    "## PROBLEMA #6\n",
    "# Come mai il data shuffle è così importante?\n",
    "# In quali circostanze l'assenza di shuffle può diminuire l'accuratezza? \n",
    "# In quali altre circostanze lo shuffle può essere inutile?"
   ]
  },
  {
   "cell_type": "code",
   "execution_count": null,
   "metadata": {
    "collapsed": true
   },
   "outputs": [],
   "source": [
    "# Se vuoi approfondisci l'argomento studiando l'interleaving learning https://arxiv.org/abs/1611.05607"
   ]
  }
 ],
 "metadata": {
  "kernelspec": {
   "display_name": "Python 3",
   "language": "python",
   "name": "python3"
  },
  "language_info": {
   "codemirror_mode": {
    "name": "ipython",
    "version": 3
   },
   "file_extension": ".py",
   "mimetype": "text/x-python",
   "name": "python",
   "nbconvert_exporter": "python",
   "pygments_lexer": "ipython3",
   "version": "3.6.1"
  }
 },
 "nbformat": 4,
 "nbformat_minor": 2
}
